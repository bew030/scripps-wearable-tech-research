{
 "cells": [
  {
   "cell_type": "code",
   "execution_count": 1,
   "metadata": {},
   "outputs": [],
   "source": [
    "import pandas as pd \n",
    "import numpy as np\n",
    "import matplotlib.pyplot as plt\n",
    "import datetime\n",
    "import random\n",
    "%matplotlib inline"
   ]
  },
  {
   "cell_type": "code",
   "execution_count": 2,
   "metadata": {
    "scrolled": true
   },
   "outputs": [
    {
     "ename": "FileNotFoundError",
     "evalue": "[Errno 2] File b'scripps1_ibi.csv' does not exist: b'scripps1_ibi.csv'",
     "output_type": "error",
     "traceback": [
      "\u001b[0;31m---------------------------------------------------------------------------\u001b[0m",
      "\u001b[0;31mFileNotFoundError\u001b[0m                         Traceback (most recent call last)",
      "\u001b[0;32m<ipython-input-2-a58c6b8270af>\u001b[0m in \u001b[0;36m<module>\u001b[0;34m\u001b[0m\n\u001b[0;32m----> 1\u001b[0;31m \u001b[0mibi_data\u001b[0m \u001b[0;34m=\u001b[0m \u001b[0mpd\u001b[0m\u001b[0;34m.\u001b[0m\u001b[0mread_csv\u001b[0m\u001b[0;34m(\u001b[0m\u001b[0;34m'scripps1_ibi.csv'\u001b[0m\u001b[0;34m,\u001b[0m\u001b[0msep\u001b[0m\u001b[0;34m=\u001b[0m\u001b[0;34m';'\u001b[0m\u001b[0;34m)\u001b[0m\u001b[0;34m\u001b[0m\u001b[0;34m\u001b[0m\u001b[0m\n\u001b[0m",
      "\u001b[0;32m~/anaconda3/lib/python3.6/site-packages/pandas/io/parsers.py\u001b[0m in \u001b[0;36mparser_f\u001b[0;34m(filepath_or_buffer, sep, delimiter, header, names, index_col, usecols, squeeze, prefix, mangle_dupe_cols, dtype, engine, converters, true_values, false_values, skipinitialspace, skiprows, skipfooter, nrows, na_values, keep_default_na, na_filter, verbose, skip_blank_lines, parse_dates, infer_datetime_format, keep_date_col, date_parser, dayfirst, iterator, chunksize, compression, thousands, decimal, lineterminator, quotechar, quoting, doublequote, escapechar, comment, encoding, dialect, tupleize_cols, error_bad_lines, warn_bad_lines, delim_whitespace, low_memory, memory_map, float_precision)\u001b[0m\n\u001b[1;32m    700\u001b[0m                     skip_blank_lines=skip_blank_lines)\n\u001b[1;32m    701\u001b[0m \u001b[0;34m\u001b[0m\u001b[0m\n\u001b[0;32m--> 702\u001b[0;31m         \u001b[0;32mreturn\u001b[0m \u001b[0m_read\u001b[0m\u001b[0;34m(\u001b[0m\u001b[0mfilepath_or_buffer\u001b[0m\u001b[0;34m,\u001b[0m \u001b[0mkwds\u001b[0m\u001b[0;34m)\u001b[0m\u001b[0;34m\u001b[0m\u001b[0;34m\u001b[0m\u001b[0m\n\u001b[0m\u001b[1;32m    703\u001b[0m \u001b[0;34m\u001b[0m\u001b[0m\n\u001b[1;32m    704\u001b[0m     \u001b[0mparser_f\u001b[0m\u001b[0;34m.\u001b[0m\u001b[0m__name__\u001b[0m \u001b[0;34m=\u001b[0m \u001b[0mname\u001b[0m\u001b[0;34m\u001b[0m\u001b[0;34m\u001b[0m\u001b[0m\n",
      "\u001b[0;32m~/anaconda3/lib/python3.6/site-packages/pandas/io/parsers.py\u001b[0m in \u001b[0;36m_read\u001b[0;34m(filepath_or_buffer, kwds)\u001b[0m\n\u001b[1;32m    427\u001b[0m \u001b[0;34m\u001b[0m\u001b[0m\n\u001b[1;32m    428\u001b[0m     \u001b[0;31m# Create the parser.\u001b[0m\u001b[0;34m\u001b[0m\u001b[0;34m\u001b[0m\u001b[0;34m\u001b[0m\u001b[0m\n\u001b[0;32m--> 429\u001b[0;31m     \u001b[0mparser\u001b[0m \u001b[0;34m=\u001b[0m \u001b[0mTextFileReader\u001b[0m\u001b[0;34m(\u001b[0m\u001b[0mfilepath_or_buffer\u001b[0m\u001b[0;34m,\u001b[0m \u001b[0;34m**\u001b[0m\u001b[0mkwds\u001b[0m\u001b[0;34m)\u001b[0m\u001b[0;34m\u001b[0m\u001b[0;34m\u001b[0m\u001b[0m\n\u001b[0m\u001b[1;32m    430\u001b[0m \u001b[0;34m\u001b[0m\u001b[0m\n\u001b[1;32m    431\u001b[0m     \u001b[0;32mif\u001b[0m \u001b[0mchunksize\u001b[0m \u001b[0;32mor\u001b[0m \u001b[0miterator\u001b[0m\u001b[0;34m:\u001b[0m\u001b[0;34m\u001b[0m\u001b[0;34m\u001b[0m\u001b[0m\n",
      "\u001b[0;32m~/anaconda3/lib/python3.6/site-packages/pandas/io/parsers.py\u001b[0m in \u001b[0;36m__init__\u001b[0;34m(self, f, engine, **kwds)\u001b[0m\n\u001b[1;32m    893\u001b[0m             \u001b[0mself\u001b[0m\u001b[0;34m.\u001b[0m\u001b[0moptions\u001b[0m\u001b[0;34m[\u001b[0m\u001b[0;34m'has_index_names'\u001b[0m\u001b[0;34m]\u001b[0m \u001b[0;34m=\u001b[0m \u001b[0mkwds\u001b[0m\u001b[0;34m[\u001b[0m\u001b[0;34m'has_index_names'\u001b[0m\u001b[0;34m]\u001b[0m\u001b[0;34m\u001b[0m\u001b[0;34m\u001b[0m\u001b[0m\n\u001b[1;32m    894\u001b[0m \u001b[0;34m\u001b[0m\u001b[0m\n\u001b[0;32m--> 895\u001b[0;31m         \u001b[0mself\u001b[0m\u001b[0;34m.\u001b[0m\u001b[0m_make_engine\u001b[0m\u001b[0;34m(\u001b[0m\u001b[0mself\u001b[0m\u001b[0;34m.\u001b[0m\u001b[0mengine\u001b[0m\u001b[0;34m)\u001b[0m\u001b[0;34m\u001b[0m\u001b[0;34m\u001b[0m\u001b[0m\n\u001b[0m\u001b[1;32m    896\u001b[0m \u001b[0;34m\u001b[0m\u001b[0m\n\u001b[1;32m    897\u001b[0m     \u001b[0;32mdef\u001b[0m \u001b[0mclose\u001b[0m\u001b[0;34m(\u001b[0m\u001b[0mself\u001b[0m\u001b[0;34m)\u001b[0m\u001b[0;34m:\u001b[0m\u001b[0;34m\u001b[0m\u001b[0;34m\u001b[0m\u001b[0m\n",
      "\u001b[0;32m~/anaconda3/lib/python3.6/site-packages/pandas/io/parsers.py\u001b[0m in \u001b[0;36m_make_engine\u001b[0;34m(self, engine)\u001b[0m\n\u001b[1;32m   1120\u001b[0m     \u001b[0;32mdef\u001b[0m \u001b[0m_make_engine\u001b[0m\u001b[0;34m(\u001b[0m\u001b[0mself\u001b[0m\u001b[0;34m,\u001b[0m \u001b[0mengine\u001b[0m\u001b[0;34m=\u001b[0m\u001b[0;34m'c'\u001b[0m\u001b[0;34m)\u001b[0m\u001b[0;34m:\u001b[0m\u001b[0;34m\u001b[0m\u001b[0;34m\u001b[0m\u001b[0m\n\u001b[1;32m   1121\u001b[0m         \u001b[0;32mif\u001b[0m \u001b[0mengine\u001b[0m \u001b[0;34m==\u001b[0m \u001b[0;34m'c'\u001b[0m\u001b[0;34m:\u001b[0m\u001b[0;34m\u001b[0m\u001b[0;34m\u001b[0m\u001b[0m\n\u001b[0;32m-> 1122\u001b[0;31m             \u001b[0mself\u001b[0m\u001b[0;34m.\u001b[0m\u001b[0m_engine\u001b[0m \u001b[0;34m=\u001b[0m \u001b[0mCParserWrapper\u001b[0m\u001b[0;34m(\u001b[0m\u001b[0mself\u001b[0m\u001b[0;34m.\u001b[0m\u001b[0mf\u001b[0m\u001b[0;34m,\u001b[0m \u001b[0;34m**\u001b[0m\u001b[0mself\u001b[0m\u001b[0;34m.\u001b[0m\u001b[0moptions\u001b[0m\u001b[0;34m)\u001b[0m\u001b[0;34m\u001b[0m\u001b[0;34m\u001b[0m\u001b[0m\n\u001b[0m\u001b[1;32m   1123\u001b[0m         \u001b[0;32melse\u001b[0m\u001b[0;34m:\u001b[0m\u001b[0;34m\u001b[0m\u001b[0;34m\u001b[0m\u001b[0m\n\u001b[1;32m   1124\u001b[0m             \u001b[0;32mif\u001b[0m \u001b[0mengine\u001b[0m \u001b[0;34m==\u001b[0m \u001b[0;34m'python'\u001b[0m\u001b[0;34m:\u001b[0m\u001b[0;34m\u001b[0m\u001b[0;34m\u001b[0m\u001b[0m\n",
      "\u001b[0;32m~/anaconda3/lib/python3.6/site-packages/pandas/io/parsers.py\u001b[0m in \u001b[0;36m__init__\u001b[0;34m(self, src, **kwds)\u001b[0m\n\u001b[1;32m   1851\u001b[0m         \u001b[0mkwds\u001b[0m\u001b[0;34m[\u001b[0m\u001b[0;34m'usecols'\u001b[0m\u001b[0;34m]\u001b[0m \u001b[0;34m=\u001b[0m \u001b[0mself\u001b[0m\u001b[0;34m.\u001b[0m\u001b[0musecols\u001b[0m\u001b[0;34m\u001b[0m\u001b[0;34m\u001b[0m\u001b[0m\n\u001b[1;32m   1852\u001b[0m \u001b[0;34m\u001b[0m\u001b[0m\n\u001b[0;32m-> 1853\u001b[0;31m         \u001b[0mself\u001b[0m\u001b[0;34m.\u001b[0m\u001b[0m_reader\u001b[0m \u001b[0;34m=\u001b[0m \u001b[0mparsers\u001b[0m\u001b[0;34m.\u001b[0m\u001b[0mTextReader\u001b[0m\u001b[0;34m(\u001b[0m\u001b[0msrc\u001b[0m\u001b[0;34m,\u001b[0m \u001b[0;34m**\u001b[0m\u001b[0mkwds\u001b[0m\u001b[0;34m)\u001b[0m\u001b[0;34m\u001b[0m\u001b[0;34m\u001b[0m\u001b[0m\n\u001b[0m\u001b[1;32m   1854\u001b[0m         \u001b[0mself\u001b[0m\u001b[0;34m.\u001b[0m\u001b[0munnamed_cols\u001b[0m \u001b[0;34m=\u001b[0m \u001b[0mself\u001b[0m\u001b[0;34m.\u001b[0m\u001b[0m_reader\u001b[0m\u001b[0;34m.\u001b[0m\u001b[0munnamed_cols\u001b[0m\u001b[0;34m\u001b[0m\u001b[0;34m\u001b[0m\u001b[0m\n\u001b[1;32m   1855\u001b[0m \u001b[0;34m\u001b[0m\u001b[0m\n",
      "\u001b[0;32mpandas/_libs/parsers.pyx\u001b[0m in \u001b[0;36mpandas._libs.parsers.TextReader.__cinit__\u001b[0;34m()\u001b[0m\n",
      "\u001b[0;32mpandas/_libs/parsers.pyx\u001b[0m in \u001b[0;36mpandas._libs.parsers.TextReader._setup_parser_source\u001b[0;34m()\u001b[0m\n",
      "\u001b[0;31mFileNotFoundError\u001b[0m: [Errno 2] File b'scripps1_ibi.csv' does not exist: b'scripps1_ibi.csv'"
     ]
    }
   ],
   "source": [
    "ibi_data = pd.read_csv('scripps1_ibi.csv',sep=';')"
   ]
  },
  {
   "cell_type": "code",
   "execution_count": 3,
   "metadata": {},
   "outputs": [],
   "source": [
    "# issues with calculating it out with IBI: some IBI's have incorrect UTC time or are just not recorded. You also can't\n",
    "# only use IBI's with valid validity because sometimes they are not recorded one after another \n",
    "def visualized_ibi_df_creator(df):\n",
    "    valid_ibi = df.sort_values('UTC time')[ibi_data['Validity']==1]\n",
    "    valid_ibi['UTC time'] = valid_ibi['UTC time'].astype(int)\n",
    "    valid_ibi['UTC time (converted)'] = valid_ibi['UTC time'].apply(\n",
    "        lambda x: datetime.datetime.fromtimestamp(x).strftime(\"%Y-%m-%d %H:%M:%S\"))\n",
    "    hours = pd.to_datetime(valid_ibi['UTC time (converted)']).apply(lambda x: x.hour)\n",
    "    def morning_afternoon_evening_night(x):\n",
    "        if 5<=x<=11: # 7 hours \n",
    "            return 'morning'\n",
    "        elif 12<=x<=16: # 5 hours\n",
    "            return 'afternoon'\n",
    "        elif 17<=x<=21: # 5 hours\n",
    "            return 'evening'\n",
    "        else: # 7 hours\n",
    "            return 'night'\n",
    "    valid_ibi['time frame'] = hours.apply(morning_afternoon_evening_night)\n",
    "    valid_ibi['time according to UTC time'] = pd.to_datetime(valid_ibi['UTC time (converted)']).apply(\n",
    "        lambda x: str(x.time()))\n",
    "    return valid_ibi"
   ]
  },
  {
   "cell_type": "code",
   "execution_count": 4,
   "metadata": {
    "scrolled": true
   },
   "outputs": [
    {
     "name": "stderr",
     "output_type": "stream",
     "text": [
      "/Users/bernardwong/anaconda3/lib/python3.6/site-packages/ipykernel_launcher.py:4: UserWarning: Boolean Series key will be reindexed to match DataFrame index.\n",
      "  after removing the cwd from sys.path.\n"
     ]
    },
    {
     "data": {
      "text/html": [
       "<div>\n",
       "<style scoped>\n",
       "    .dataframe tbody tr th:only-of-type {\n",
       "        vertical-align: middle;\n",
       "    }\n",
       "\n",
       "    .dataframe tbody tr th {\n",
       "        vertical-align: top;\n",
       "    }\n",
       "\n",
       "    .dataframe thead th {\n",
       "        text-align: right;\n",
       "    }\n",
       "</style>\n",
       "<table border=\"1\" class=\"dataframe\">\n",
       "  <thead>\n",
       "    <tr style=\"text-align: right;\">\n",
       "      <th></th>\n",
       "      <th>Date</th>\n",
       "      <th>Time</th>\n",
       "      <th>Validity</th>\n",
       "      <th>Padded IBI</th>\n",
       "      <th>IBI</th>\n",
       "      <th>UTC time</th>\n",
       "      <th>UTC time (converted)</th>\n",
       "      <th>time frame</th>\n",
       "      <th>time according to UTC time</th>\n",
       "    </tr>\n",
       "  </thead>\n",
       "  <tbody>\n",
       "    <tr>\n",
       "      <th>1</th>\n",
       "      <td>27.11.2018</td>\n",
       "      <td>12:37:43</td>\n",
       "      <td>1</td>\n",
       "      <td>980</td>\n",
       "      <td>980.0</td>\n",
       "      <td>1543351058</td>\n",
       "      <td>2018-11-27 12:37:38</td>\n",
       "      <td>afternoon</td>\n",
       "      <td>12:37:38</td>\n",
       "    </tr>\n",
       "    <tr>\n",
       "      <th>2</th>\n",
       "      <td>27.11.2018</td>\n",
       "      <td>12:37:43</td>\n",
       "      <td>1</td>\n",
       "      <td>956</td>\n",
       "      <td>956.0</td>\n",
       "      <td>1543351059</td>\n",
       "      <td>2018-11-27 12:37:39</td>\n",
       "      <td>afternoon</td>\n",
       "      <td>12:37:39</td>\n",
       "    </tr>\n",
       "    <tr>\n",
       "      <th>3</th>\n",
       "      <td>27.11.2018</td>\n",
       "      <td>12:37:43</td>\n",
       "      <td>1</td>\n",
       "      <td>1096</td>\n",
       "      <td>1096.0</td>\n",
       "      <td>1543351060</td>\n",
       "      <td>2018-11-27 12:37:40</td>\n",
       "      <td>afternoon</td>\n",
       "      <td>12:37:40</td>\n",
       "    </tr>\n",
       "    <tr>\n",
       "      <th>4</th>\n",
       "      <td>27.11.2018</td>\n",
       "      <td>12:37:43</td>\n",
       "      <td>1</td>\n",
       "      <td>1172</td>\n",
       "      <td>1172.0</td>\n",
       "      <td>1543351061</td>\n",
       "      <td>2018-11-27 12:37:41</td>\n",
       "      <td>afternoon</td>\n",
       "      <td>12:37:41</td>\n",
       "    </tr>\n",
       "    <tr>\n",
       "      <th>5</th>\n",
       "      <td>27.11.2018</td>\n",
       "      <td>12:37:43</td>\n",
       "      <td>1</td>\n",
       "      <td>1080</td>\n",
       "      <td>1080.0</td>\n",
       "      <td>1543351062</td>\n",
       "      <td>2018-11-27 12:37:42</td>\n",
       "      <td>afternoon</td>\n",
       "      <td>12:37:42</td>\n",
       "    </tr>\n",
       "    <tr>\n",
       "      <th>6</th>\n",
       "      <td>27.11.2018</td>\n",
       "      <td>12:37:50</td>\n",
       "      <td>1</td>\n",
       "      <td>1044</td>\n",
       "      <td>1044.0</td>\n",
       "      <td>1543351064</td>\n",
       "      <td>2018-11-27 12:37:44</td>\n",
       "      <td>afternoon</td>\n",
       "      <td>12:37:44</td>\n",
       "    </tr>\n",
       "    <tr>\n",
       "      <th>7</th>\n",
       "      <td>27.11.2018</td>\n",
       "      <td>12:37:50</td>\n",
       "      <td>1</td>\n",
       "      <td>1068</td>\n",
       "      <td>1068.0</td>\n",
       "      <td>1543351065</td>\n",
       "      <td>2018-11-27 12:37:45</td>\n",
       "      <td>afternoon</td>\n",
       "      <td>12:37:45</td>\n",
       "    </tr>\n",
       "    <tr>\n",
       "      <th>8</th>\n",
       "      <td>27.11.2018</td>\n",
       "      <td>12:37:50</td>\n",
       "      <td>1</td>\n",
       "      <td>1048</td>\n",
       "      <td>1048.0</td>\n",
       "      <td>1543351066</td>\n",
       "      <td>2018-11-27 12:37:46</td>\n",
       "      <td>afternoon</td>\n",
       "      <td>12:37:46</td>\n",
       "    </tr>\n",
       "    <tr>\n",
       "      <th>9</th>\n",
       "      <td>27.11.2018</td>\n",
       "      <td>12:37:50</td>\n",
       "      <td>1</td>\n",
       "      <td>996</td>\n",
       "      <td>996.0</td>\n",
       "      <td>1543351067</td>\n",
       "      <td>2018-11-27 12:37:47</td>\n",
       "      <td>afternoon</td>\n",
       "      <td>12:37:47</td>\n",
       "    </tr>\n",
       "    <tr>\n",
       "      <th>10</th>\n",
       "      <td>27.11.2018</td>\n",
       "      <td>12:37:50</td>\n",
       "      <td>1</td>\n",
       "      <td>984</td>\n",
       "      <td>984.0</td>\n",
       "      <td>1543351068</td>\n",
       "      <td>2018-11-27 12:37:48</td>\n",
       "      <td>afternoon</td>\n",
       "      <td>12:37:48</td>\n",
       "    </tr>\n",
       "  </tbody>\n",
       "</table>\n",
       "</div>"
      ],
      "text/plain": [
       "          Date      Time  Validity  Padded IBI     IBI    UTC time  \\\n",
       "1   27.11.2018  12:37:43         1         980   980.0  1543351058   \n",
       "2   27.11.2018  12:37:43         1         956   956.0  1543351059   \n",
       "3   27.11.2018  12:37:43         1        1096  1096.0  1543351060   \n",
       "4   27.11.2018  12:37:43         1        1172  1172.0  1543351061   \n",
       "5   27.11.2018  12:37:43         1        1080  1080.0  1543351062   \n",
       "6   27.11.2018  12:37:50         1        1044  1044.0  1543351064   \n",
       "7   27.11.2018  12:37:50         1        1068  1068.0  1543351065   \n",
       "8   27.11.2018  12:37:50         1        1048  1048.0  1543351066   \n",
       "9   27.11.2018  12:37:50         1         996   996.0  1543351067   \n",
       "10  27.11.2018  12:37:50         1         984   984.0  1543351068   \n",
       "\n",
       "   UTC time (converted) time frame time according to UTC time  \n",
       "1   2018-11-27 12:37:38  afternoon                   12:37:38  \n",
       "2   2018-11-27 12:37:39  afternoon                   12:37:39  \n",
       "3   2018-11-27 12:37:40  afternoon                   12:37:40  \n",
       "4   2018-11-27 12:37:41  afternoon                   12:37:41  \n",
       "5   2018-11-27 12:37:42  afternoon                   12:37:42  \n",
       "6   2018-11-27 12:37:44  afternoon                   12:37:44  \n",
       "7   2018-11-27 12:37:45  afternoon                   12:37:45  \n",
       "8   2018-11-27 12:37:46  afternoon                   12:37:46  \n",
       "9   2018-11-27 12:37:47  afternoon                   12:37:47  \n",
       "10  2018-11-27 12:37:48  afternoon                   12:37:48  "
      ]
     },
     "execution_count": 4,
     "metadata": {},
     "output_type": "execute_result"
    }
   ],
   "source": [
    "valid_ibi = visualized_ibi_df_creator(ibi_data)\n",
    "valid_ibi.head(10)"
   ]
  },
  {
   "cell_type": "code",
   "execution_count": 5,
   "metadata": {},
   "outputs": [
    {
     "data": {
      "text/plain": [
       "night        277764\n",
       "morning      113597\n",
       "afternoon     12002\n",
       "evening        7292\n",
       "Name: time frame, dtype: int64"
      ]
     },
     "execution_count": 5,
     "metadata": {},
     "output_type": "execute_result"
    }
   ],
   "source": [
    "valid_ibi['time frame'].value_counts()"
   ]
  },
  {
   "cell_type": "code",
   "execution_count": 6,
   "metadata": {},
   "outputs": [],
   "source": [
    "def ibi_visualizer(valid_ibi, time = None, number = 300):\n",
    "    dates = valid_ibi['Date'].unique()\n",
    "    random_date = random.choice(dates)\n",
    "    if time == None:\n",
    "        random_time = random.choice(['morning','afternoon','evening','night'])\n",
    "    else:\n",
    "        random_time = time\n",
    "    random_df = valid_ibi[(valid_ibi['Date'] == random_date) & (valid_ibi['time frame'] == random_time)]\n",
    "    random_interest = random_df[:number]\n",
    "    f = plt.figure(figsize=(20,10))\n",
    "    ax = f.add_subplot(111)\n",
    "    ax.plot(random_interest['time according to UTC time'],random_interest['Padded IBI'],'-o')\n",
    "    ax.set_title('Lineplot of the first 100 Valid IBIs in the '+random_time+' of '+random_date);\n",
    "    ax.set_xlabel('Epoch time');\n",
    "    ax.set_xticklabels(labels = random_interest['time according to UTC time'], rotation = 90)\n",
    "    ax.set_ylabel('IBI');"
   ]
  },
  {
   "cell_type": "code",
   "execution_count": 7,
   "metadata": {},
   "outputs": [
    {
     "data": {
      "image/png": "[encoded data removed]",
      "text/plain": [
       "<Figure size 1440x720 with 1 Axes>"
      ]
     },
     "metadata": {
      "needs_background": "light"
     },
     "output_type": "display_data"
    }
   ],
   "source": [
    "ibi_visualizer(valid_ibi,time = 'night')"
   ]
  },
  {
   "cell_type": "code",
   "execution_count": 8,
   "metadata": {},
   "outputs": [],
   "source": [
    "# markov chain "
   ]
  },
  {
   "cell_type": "code",
   "execution_count": 9,
   "metadata": {},
   "outputs": [],
   "source": [
    "def markov_chain(df):\n",
    "    def validity_func(x):\n",
    "        if x!= 1:\n",
    "            return False\n",
    "        else:\n",
    "            return True\n",
    "    validity_counts = pd.DataFrame({'initial':df['Validity'].apply(validity_func)})\n",
    "    validity_counts['next'] = validity_counts['initial'].shift(-1)\n",
    "    validity_counts = validity_counts[:-1]\n",
    "    \n",
    "    counts = pd.DataFrame(validity_counts['initial'].value_counts()).reset_index()\n",
    "    counts.columns = ['initial','total_count']\n",
    "    \n",
    "    result = pd.DataFrame(validity_counts.groupby('initial')['next'].value_counts())\n",
    "    result.columns = ['count']\n",
    "    result = result.reset_index()\n",
    "    result = result.merge(counts)\n",
    "    result['proportion'] = result['count']/result['total_count']\n",
    "    return result.pivot(index='initial',columns = 'next',values = 'proportion')"
   ]
  },
  {
   "cell_type": "code",
   "execution_count": 10,
   "metadata": {
    "scrolled": true
   },
   "outputs": [
    {
     "data": {
      "text/html": [
       "<div>\n",
       "<style scoped>\n",
       "    .dataframe tbody tr th:only-of-type {\n",
       "        vertical-align: middle;\n",
       "    }\n",
       "\n",
       "    .dataframe tbody tr th {\n",
       "        vertical-align: top;\n",
       "    }\n",
       "\n",
       "    .dataframe thead th {\n",
       "        text-align: right;\n",
       "    }\n",
       "</style>\n",
       "<table border=\"1\" class=\"dataframe\">\n",
       "  <thead>\n",
       "    <tr style=\"text-align: right;\">\n",
       "      <th>next</th>\n",
       "      <th>False</th>\n",
       "      <th>True</th>\n",
       "    </tr>\n",
       "    <tr>\n",
       "      <th>initial</th>\n",
       "      <th></th>\n",
       "      <th></th>\n",
       "    </tr>\n",
       "  </thead>\n",
       "  <tbody>\n",
       "    <tr>\n",
       "      <th>False</th>\n",
       "      <td>0.758826</td>\n",
       "      <td>0.241174</td>\n",
       "    </tr>\n",
       "    <tr>\n",
       "      <th>True</th>\n",
       "      <td>0.046645</td>\n",
       "      <td>0.953355</td>\n",
       "    </tr>\n",
       "  </tbody>\n",
       "</table>\n",
       "</div>"
      ],
      "text/plain": [
       "next        False     True \n",
       "initial                    \n",
       "False    0.758826  0.241174\n",
       "True     0.046645  0.953355"
      ]
     },
     "execution_count": 10,
     "metadata": {},
     "output_type": "execute_result"
    }
   ],
   "source": [
    "markov_chain(ibi_data)"
   ]
  },
  {
   "cell_type": "code",
   "execution_count": 11,
   "metadata": {},
   "outputs": [],
   "source": [
    "# HRV STUFF"
   ]
  },
  {
   "cell_type": "code",
   "execution_count": 12,
   "metadata": {},
   "outputs": [
    {
     "data": {
      "text/html": [
       "<div>\n",
       "<style scoped>\n",
       "    .dataframe tbody tr th:only-of-type {\n",
       "        vertical-align: middle;\n",
       "    }\n",
       "\n",
       "    .dataframe tbody tr th {\n",
       "        vertical-align: top;\n",
       "    }\n",
       "\n",
       "    .dataframe thead th {\n",
       "        text-align: right;\n",
       "    }\n",
       "</style>\n",
       "<table border=\"1\" class=\"dataframe\">\n",
       "  <thead>\n",
       "    <tr style=\"text-align: right;\">\n",
       "      <th></th>\n",
       "      <th>Date</th>\n",
       "      <th>Time</th>\n",
       "      <th>Validity</th>\n",
       "      <th>Padded IBI</th>\n",
       "      <th>IBI</th>\n",
       "      <th>UTC time</th>\n",
       "      <th>UTC time (converted)</th>\n",
       "      <th>time frame</th>\n",
       "      <th>time according to UTC time</th>\n",
       "    </tr>\n",
       "  </thead>\n",
       "  <tbody>\n",
       "    <tr>\n",
       "      <th>1</th>\n",
       "      <td>27.11.2018</td>\n",
       "      <td>12:37:43</td>\n",
       "      <td>1</td>\n",
       "      <td>980</td>\n",
       "      <td>980.0</td>\n",
       "      <td>1543351058</td>\n",
       "      <td>2018-11-27 12:37:38</td>\n",
       "      <td>afternoon</td>\n",
       "      <td>12:37:38</td>\n",
       "    </tr>\n",
       "    <tr>\n",
       "      <th>2</th>\n",
       "      <td>27.11.2018</td>\n",
       "      <td>12:37:43</td>\n",
       "      <td>1</td>\n",
       "      <td>956</td>\n",
       "      <td>956.0</td>\n",
       "      <td>1543351059</td>\n",
       "      <td>2018-11-27 12:37:39</td>\n",
       "      <td>afternoon</td>\n",
       "      <td>12:37:39</td>\n",
       "    </tr>\n",
       "    <tr>\n",
       "      <th>3</th>\n",
       "      <td>27.11.2018</td>\n",
       "      <td>12:37:43</td>\n",
       "      <td>1</td>\n",
       "      <td>1096</td>\n",
       "      <td>1096.0</td>\n",
       "      <td>1543351060</td>\n",
       "      <td>2018-11-27 12:37:40</td>\n",
       "      <td>afternoon</td>\n",
       "      <td>12:37:40</td>\n",
       "    </tr>\n",
       "    <tr>\n",
       "      <th>4</th>\n",
       "      <td>27.11.2018</td>\n",
       "      <td>12:37:43</td>\n",
       "      <td>1</td>\n",
       "      <td>1172</td>\n",
       "      <td>1172.0</td>\n",
       "      <td>1543351061</td>\n",
       "      <td>2018-11-27 12:37:41</td>\n",
       "      <td>afternoon</td>\n",
       "      <td>12:37:41</td>\n",
       "    </tr>\n",
       "    <tr>\n",
       "      <th>5</th>\n",
       "      <td>27.11.2018</td>\n",
       "      <td>12:37:43</td>\n",
       "      <td>1</td>\n",
       "      <td>1080</td>\n",
       "      <td>1080.0</td>\n",
       "      <td>1543351062</td>\n",
       "      <td>2018-11-27 12:37:42</td>\n",
       "      <td>afternoon</td>\n",
       "      <td>12:37:42</td>\n",
       "    </tr>\n",
       "  </tbody>\n",
       "</table>\n",
       "</div>"
      ],
      "text/plain": [
       "         Date      Time  Validity  Padded IBI     IBI    UTC time  \\\n",
       "1  27.11.2018  12:37:43         1         980   980.0  1543351058   \n",
       "2  27.11.2018  12:37:43         1         956   956.0  1543351059   \n",
       "3  27.11.2018  12:37:43         1        1096  1096.0  1543351060   \n",
       "4  27.11.2018  12:37:43         1        1172  1172.0  1543351061   \n",
       "5  27.11.2018  12:37:43         1        1080  1080.0  1543351062   \n",
       "\n",
       "  UTC time (converted) time frame time according to UTC time  \n",
       "1  2018-11-27 12:37:38  afternoon                   12:37:38  \n",
       "2  2018-11-27 12:37:39  afternoon                   12:37:39  \n",
       "3  2018-11-27 12:37:40  afternoon                   12:37:40  \n",
       "4  2018-11-27 12:37:41  afternoon                   12:37:41  \n",
       "5  2018-11-27 12:37:42  afternoon                   12:37:42  "
      ]
     },
     "execution_count": 12,
     "metadata": {},
     "output_type": "execute_result"
    }
   ],
   "source": [
    "valid_ibi.head()"
   ]
  },
  {
   "cell_type": "code",
   "execution_count": 13,
   "metadata": {},
   "outputs": [
    {
     "data": {
      "text/html": [
       "<div>\n",
       "<style scoped>\n",
       "    .dataframe tbody tr th:only-of-type {\n",
       "        vertical-align: middle;\n",
       "    }\n",
       "\n",
       "    .dataframe tbody tr th {\n",
       "        vertical-align: top;\n",
       "    }\n",
       "\n",
       "    .dataframe thead th {\n",
       "        text-align: right;\n",
       "    }\n",
       "</style>\n",
       "<table border=\"1\" class=\"dataframe\">\n",
       "  <thead>\n",
       "    <tr style=\"text-align: right;\">\n",
       "      <th></th>\n",
       "      <th>IBI</th>\n",
       "      <th>UTC time</th>\n",
       "      <th>next IBI</th>\n",
       "    </tr>\n",
       "  </thead>\n",
       "  <tbody>\n",
       "    <tr>\n",
       "      <th>1</th>\n",
       "      <td>980.0</td>\n",
       "      <td>1543351058</td>\n",
       "      <td>956.0</td>\n",
       "    </tr>\n",
       "    <tr>\n",
       "      <th>2</th>\n",
       "      <td>956.0</td>\n",
       "      <td>1543351059</td>\n",
       "      <td>1096.0</td>\n",
       "    </tr>\n",
       "    <tr>\n",
       "      <th>3</th>\n",
       "      <td>1096.0</td>\n",
       "      <td>1543351060</td>\n",
       "      <td>1172.0</td>\n",
       "    </tr>\n",
       "    <tr>\n",
       "      <th>4</th>\n",
       "      <td>1172.0</td>\n",
       "      <td>1543351061</td>\n",
       "      <td>1080.0</td>\n",
       "    </tr>\n",
       "    <tr>\n",
       "      <th>5</th>\n",
       "      <td>1080.0</td>\n",
       "      <td>1543351062</td>\n",
       "      <td>1044.0</td>\n",
       "    </tr>\n",
       "  </tbody>\n",
       "</table>\n",
       "</div>"
      ],
      "text/plain": [
       "      IBI    UTC time  next IBI\n",
       "1   980.0  1543351058     956.0\n",
       "2   956.0  1543351059    1096.0\n",
       "3  1096.0  1543351060    1172.0\n",
       "4  1172.0  1543351061    1080.0\n",
       "5  1080.0  1543351062    1044.0"
      ]
     },
     "execution_count": 13,
     "metadata": {},
     "output_type": "execute_result"
    }
   ],
   "source": [
    "pd.options.mode.chained_assignment = None\n",
    "tester = valid_ibi[['IBI','UTC time']]\n",
    "tester['next IBI'] = tester['IBI'].shift(-1)\n",
    "tester = tester[:-1]\n",
    "tester.head()"
   ]
  },
  {
   "cell_type": "code",
   "execution_count": 14,
   "metadata": {},
   "outputs": [
    {
     "data": {
      "text/plain": [
       "410654"
      ]
     },
     "execution_count": 14,
     "metadata": {},
     "output_type": "execute_result"
    }
   ],
   "source": [
    "len(tester)"
   ]
  },
  {
   "cell_type": "code",
   "execution_count": 15,
   "metadata": {
    "scrolled": true
   },
   "outputs": [
    {
     "data": {
      "text/plain": [
       "1         False\n",
       "2          True\n",
       "3          True\n",
       "4          True\n",
       "5         False\n",
       "6         False\n",
       "7         False\n",
       "8          True\n",
       "9         False\n",
       "10        False\n",
       "11        False\n",
       "12        False\n",
       "13         True\n",
       "14         True\n",
       "15         True\n",
       "16        False\n",
       "17        False\n",
       "18        False\n",
       "19        False\n",
       "20        False\n",
       "21        False\n",
       "22         True\n",
       "23        False\n",
       "24         True\n",
       "25        False\n",
       "26         True\n",
       "27        False\n",
       "28        False\n",
       "29        False\n",
       "30        False\n",
       "          ...  \n",
       "489839     True\n",
       "489840     True\n",
       "489853     True\n",
       "489869     True\n",
       "489877    False\n",
       "489879     True\n",
       "489880     True\n",
       "489899     True\n",
       "489901     True\n",
       "489911     True\n",
       "489912     True\n",
       "489927     True\n",
       "489930     True\n",
       "489954     True\n",
       "489971     True\n",
       "489982     True\n",
       "489998     True\n",
       "490017     True\n",
       "490023     True\n",
       "490024    False\n",
       "490026     True\n",
       "490033     True\n",
       "490038     True\n",
       "490049     True\n",
       "490053     True\n",
       "490073    False\n",
       "490075    False\n",
       "490076    False\n",
       "490078     True\n",
       "490079    False\n",
       "Length: 410654, dtype: bool"
      ]
     },
     "execution_count": 15,
     "metadata": {},
     "output_type": "execute_result"
    }
   ],
   "source": [
    "differences = np.abs(tester['next IBI']-tester['IBI'])\n",
    "differences > 50 "
   ]
  },
  {
   "cell_type": "code",
   "execution_count": 16,
   "metadata": {},
   "outputs": [
    {
     "data": {
      "text/plain": [
       "<matplotlib.axes._subplots.AxesSubplot at 0x117b7a6d8>"
      ]
     },
     "execution_count": 16,
     "metadata": {},
     "output_type": "execute_result"
    },
    {
     "data": {
      "image/png": "[encoded data removed]",
      "text/plain": [
       "<Figure size 432x288 with 1 Axes>"
      ]
     },
     "metadata": {
      "needs_background": "light"
     },
     "output_type": "display_data"
    }
   ],
   "source": [
    "tester.plot(kind = 'scatter', x='IBI',y='next IBI')\n",
    "# start of poincare plot, need the oval of best fit "
   ]
  },
  {
   "cell_type": "code",
   "execution_count": 17,
   "metadata": {},
   "outputs": [],
   "source": [
    "# rmssd\n",
    "def rmssd(df):\n",
    "    difference = df['IBI']-df['next IBI']\n",
    "    difference_squared = difference**2\n",
    "    mean_of_differences = np.mean(difference_squared)\n",
    "    sqrt_item = np.sqrt(mean_of_differences)\n",
    "    # np.sqrt(np.mean((tester['IBI']-tester['next IBI'])**2))\n",
    "    return sqrt_item"
   ]
  },
  {
   "cell_type": "code",
   "execution_count": 18,
   "metadata": {},
   "outputs": [
    {
     "data": {
      "text/plain": [
       "80.76343716275524"
      ]
     },
     "execution_count": 18,
     "metadata": {},
     "output_type": "execute_result"
    }
   ],
   "source": [
    "rmssd(tester)"
   ]
  },
  {
   "cell_type": "code",
   "execution_count": 19,
   "metadata": {},
   "outputs": [],
   "source": [
    "# sdnn (might be sdrr)\n",
    "def sdnn(df):\n",
    "    return np.std(df['IBI'])"
   ]
  },
  {
   "cell_type": "code",
   "execution_count": 20,
   "metadata": {},
   "outputs": [
    {
     "data": {
      "text/plain": [
       "128.55608735040977"
      ]
     },
     "execution_count": 20,
     "metadata": {},
     "output_type": "execute_result"
    }
   ],
   "source": [
    "sdnn(tester)"
   ]
  },
  {
   "cell_type": "code",
   "execution_count": 21,
   "metadata": {},
   "outputs": [],
   "source": [
    "#nn50\n",
    "def nn50(df):\n",
    "    differences = np.abs(df['next IBI']-df['IBI'])\n",
    "    return sum(differences > 50 )"
   ]
  },
  {
   "cell_type": "code",
   "execution_count": 22,
   "metadata": {},
   "outputs": [
    {
     "data": {
      "text/plain": [
       "152888"
      ]
     },
     "execution_count": 22,
     "metadata": {},
     "output_type": "execute_result"
    }
   ],
   "source": [
    "nn50(tester)"
   ]
  },
  {
   "cell_type": "code",
   "execution_count": 23,
   "metadata": {},
   "outputs": [],
   "source": [
    "#pnn50\n",
    "def pnn50(df):\n",
    "    num = nn50(df)\n",
    "    denom = len(df)+1\n",
    "    return num/denom"
   ]
  },
  {
   "cell_type": "code",
   "execution_count": 24,
   "metadata": {},
   "outputs": [
    {
     "data": {
      "text/plain": [
       "0.3723027845758605"
      ]
     },
     "execution_count": 24,
     "metadata": {},
     "output_type": "execute_result"
    }
   ],
   "source": [
    "pnn50(tester)"
   ]
  },
  {
   "cell_type": "code",
   "execution_count": 3,
   "metadata": {},
   "outputs": [],
   "source": [
    "# NEXT STEP STUFF"
   ]
  },
  {
   "cell_type": "code",
   "execution_count": 36,
   "metadata": {},
   "outputs": [
    {
     "data": {
      "text/plain": [
       "'27.11.2018'"
      ]
     },
     "execution_count": 36,
     "metadata": {},
     "output_type": "execute_result"
    }
   ],
   "source": [
    "valid_ibi['Date'].unique()[0]"
   ]
  },
  {
   "cell_type": "code",
   "execution_count": 48,
   "metadata": {},
   "outputs": [],
   "source": [
    "example = valid_ibi[valid_ibi['Date'] == valid_ibi['Date'].unique()[0]]"
   ]
  },
  {
   "cell_type": "code",
   "execution_count": 56,
   "metadata": {},
   "outputs": [
    {
     "data": {
      "text/html": [
       "<div>\n",
       "<style scoped>\n",
       "    .dataframe tbody tr th:only-of-type {\n",
       "        vertical-align: middle;\n",
       "    }\n",
       "\n",
       "    .dataframe tbody tr th {\n",
       "        vertical-align: top;\n",
       "    }\n",
       "\n",
       "    .dataframe thead th {\n",
       "        text-align: right;\n",
       "    }\n",
       "</style>\n",
       "<table border=\"1\" class=\"dataframe\">\n",
       "  <thead>\n",
       "    <tr style=\"text-align: right;\">\n",
       "      <th></th>\n",
       "      <th>Date</th>\n",
       "      <th>Time</th>\n",
       "      <th>Validity</th>\n",
       "      <th>Padded IBI</th>\n",
       "      <th>IBI</th>\n",
       "      <th>UTC time</th>\n",
       "      <th>UTC time (converted)</th>\n",
       "      <th>time frame</th>\n",
       "      <th>time according to UTC time</th>\n",
       "    </tr>\n",
       "  </thead>\n",
       "  <tbody>\n",
       "    <tr>\n",
       "      <th>1</th>\n",
       "      <td>27.11.2018</td>\n",
       "      <td>12:37:43</td>\n",
       "      <td>1</td>\n",
       "      <td>980</td>\n",
       "      <td>980.0</td>\n",
       "      <td>1543351058</td>\n",
       "      <td>2018-11-27 12:37:38</td>\n",
       "      <td>afternoon</td>\n",
       "      <td>12:37:38</td>\n",
       "    </tr>\n",
       "    <tr>\n",
       "      <th>2</th>\n",
       "      <td>27.11.2018</td>\n",
       "      <td>12:37:43</td>\n",
       "      <td>1</td>\n",
       "      <td>956</td>\n",
       "      <td>956.0</td>\n",
       "      <td>1543351059</td>\n",
       "      <td>2018-11-27 12:37:39</td>\n",
       "      <td>afternoon</td>\n",
       "      <td>12:37:39</td>\n",
       "    </tr>\n",
       "    <tr>\n",
       "      <th>3</th>\n",
       "      <td>27.11.2018</td>\n",
       "      <td>12:37:43</td>\n",
       "      <td>1</td>\n",
       "      <td>1096</td>\n",
       "      <td>1096.0</td>\n",
       "      <td>1543351060</td>\n",
       "      <td>2018-11-27 12:37:40</td>\n",
       "      <td>afternoon</td>\n",
       "      <td>12:37:40</td>\n",
       "    </tr>\n",
       "    <tr>\n",
       "      <th>4</th>\n",
       "      <td>27.11.2018</td>\n",
       "      <td>12:37:43</td>\n",
       "      <td>1</td>\n",
       "      <td>1172</td>\n",
       "      <td>1172.0</td>\n",
       "      <td>1543351061</td>\n",
       "      <td>2018-11-27 12:37:41</td>\n",
       "      <td>afternoon</td>\n",
       "      <td>12:37:41</td>\n",
       "    </tr>\n",
       "    <tr>\n",
       "      <th>5</th>\n",
       "      <td>27.11.2018</td>\n",
       "      <td>12:37:43</td>\n",
       "      <td>1</td>\n",
       "      <td>1080</td>\n",
       "      <td>1080.0</td>\n",
       "      <td>1543351062</td>\n",
       "      <td>2018-11-27 12:37:42</td>\n",
       "      <td>afternoon</td>\n",
       "      <td>12:37:42</td>\n",
       "    </tr>\n",
       "  </tbody>\n",
       "</table>\n",
       "</div>"
      ],
      "text/plain": [
       "         Date      Time  Validity  Padded IBI     IBI    UTC time  \\\n",
       "1  27.11.2018  12:37:43         1         980   980.0  1543351058   \n",
       "2  27.11.2018  12:37:43         1         956   956.0  1543351059   \n",
       "3  27.11.2018  12:37:43         1        1096  1096.0  1543351060   \n",
       "4  27.11.2018  12:37:43         1        1172  1172.0  1543351061   \n",
       "5  27.11.2018  12:37:43         1        1080  1080.0  1543351062   \n",
       "\n",
       "  UTC time (converted) time frame time according to UTC time  \n",
       "1  2018-11-27 12:37:38  afternoon                   12:37:38  \n",
       "2  2018-11-27 12:37:39  afternoon                   12:37:39  \n",
       "3  2018-11-27 12:37:40  afternoon                   12:37:40  \n",
       "4  2018-11-27 12:37:41  afternoon                   12:37:41  \n",
       "5  2018-11-27 12:37:42  afternoon                   12:37:42  "
      ]
     },
     "execution_count": 56,
     "metadata": {},
     "output_type": "execute_result"
    }
   ],
   "source": [
    "example.head()"
   ]
  },
  {
   "cell_type": "code",
   "execution_count": 53,
   "metadata": {},
   "outputs": [
    {
     "data": {
      "text/plain": [
       "'12:37:43'"
      ]
     },
     "execution_count": 53,
     "metadata": {},
     "output_type": "execute_result"
    }
   ],
   "source": [
    "example['Time'].iloc[0]"
   ]
  },
  {
   "cell_type": "code",
   "execution_count": 55,
   "metadata": {},
   "outputs": [
    {
     "data": {
      "text/plain": [
       "'23:59:56'"
      ]
     },
     "execution_count": 55,
     "metadata": {},
     "output_type": "execute_result"
    }
   ],
   "source": [
    "example['Time'].iloc[-1]"
   ]
  },
  {
   "cell_type": "code",
   "execution_count": 34,
   "metadata": {},
   "outputs": [
    {
     "data": {
      "text/plain": [
       "1     12:37:43\n",
       "2     12:37:43\n",
       "3     12:37:43\n",
       "4     12:37:43\n",
       "5     12:37:43\n",
       "6     12:37:50\n",
       "7     12:37:50\n",
       "8     12:37:50\n",
       "9     12:37:50\n",
       "10    12:37:50\n",
       "11    12:37:50\n",
       "12    12:37:56\n",
       "13    12:37:56\n",
       "14    12:37:56\n",
       "15    12:37:56\n",
       "16    12:37:56\n",
       "17    12:37:56\n",
       "18    12:38:02\n",
       "19    12:38:02\n",
       "20    12:38:02\n",
       "Name: Time, dtype: object"
      ]
     },
     "execution_count": 34,
     "metadata": {},
     "output_type": "execute_result"
    }
   ],
   "source": [
    "valid_ibi['Time'][:20]"
   ]
  },
  {
   "cell_type": "code",
   "execution_count": null,
   "metadata": {},
   "outputs": [],
   "source": []
  }
 ],
 "metadata": {
  "kernelspec": {
   "display_name": "Python 3",
   "language": "python",
   "name": "python3"
  },
  "language_info": {
   "codemirror_mode": {
    "name": "ipython",
    "version": 3
   },
   "file_extension": ".py",
   "mimetype": "text/x-python",
   "name": "python",
   "nbconvert_exporter": "python",
   "pygments_lexer": "ipython3",
   "version": "3.6.8"
  }
 },
 "nbformat": 4,
 "nbformat_minor": 2
}
