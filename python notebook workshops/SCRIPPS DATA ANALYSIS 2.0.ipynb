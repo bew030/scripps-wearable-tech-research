{
 "cells": [
  {
   "cell_type": "code",
   "execution_count": 1,
   "metadata": {},
   "outputs": [
    {
     "name": "stderr",
     "output_type": "stream",
     "text": [
      "UsageError: Line magic function `%` not found.\n"
     ]
    }
   ],
   "source": [
    "import pandas as pd \n",
    "from datetime import datetime\n",
    "from pytz import timezone\n",
    "import numpy as np\n",
    "import csv \n",
    "import matplotlib.pyplot as plt\n",
    "import seaborn as sns\n",
    "% matplotlib inline"
   ]
  },
  {
   "cell_type": "code",
   "execution_count": null,
   "metadata": {},
   "outputs": [],
   "source": [
    "# does not read the csv file correctly for sleep; what do the columns mean when they're just numbers?\n",
    "sleep_data = pd.read_csv('scripps1_sleep.csv')\n",
    "motion_data = pd.read_csv('scripps1_motion.csv',sep=';')\n",
    "ibi_data = pd.read_csv('scripps1_ibi.csv',sep=';')"
   ]
  },
  {
   "cell_type": "code",
   "execution_count": null,
   "metadata": {},
   "outputs": [],
   "source": [
    "def sleep_dataset_reader(str_dataset):\n",
    "    ''' This function takes a string of location of sleep csv and properly formats it to be read as a dataframe.\n",
    "    Parameters: String, which is the location of the sleep dataset\n",
    "    Returns: Returns a dataframe with proper format; dataframe does not extend past header columns\n",
    "    '''\n",
    "    test = open(str_dataset,'r')\n",
    "    lines = test.readlines()\n",
    "    columns = len(lines[0].strip().split(';')) # splits into data points \n",
    "    cleaned_data = [] \n",
    "    list_rows = [] \n",
    "    for i in lines: \n",
    "        list_rows.append(i.strip().split(';'))\n",
    "    for i in list_rows:\n",
    "        cleaned_data.append(i[:columns])\n",
    "    for row in cleaned_data:\n",
    "        row.extend(0 for x in range(columns-len(row))) # extends rows; for some, 'sleep cycle max' is less than 899\n",
    "    headers = cleaned_data.pop(0)\n",
    "    df = pd.DataFrame(cleaned_data,columns = headers,dtype='float')\n",
    "    df.replace(r'^\\s*$', np.nan, regex=True, inplace = True) # replaces all the empty spaces with NaN \n",
    "    return df"
   ]
  },
  {
   "cell_type": "code",
   "execution_count": 3,
   "metadata": {
    "scrolled": true
   },
   "outputs": [
    {
     "ename": "NameError",
     "evalue": "name 'sleep_dataset_reader' is not defined",
     "output_type": "error",
     "traceback": [
      "\u001b[0;31m---------------------------------------------------------------------------\u001b[0m",
      "\u001b[0;31mNameError\u001b[0m                                 Traceback (most recent call last)",
      "\u001b[0;32m<ipython-input-3-6a8bebd30b65>\u001b[0m in \u001b[0;36m<module>\u001b[0;34m\u001b[0m\n\u001b[0;32m----> 1\u001b[0;31m \u001b[0mdf\u001b[0m \u001b[0;34m=\u001b[0m \u001b[0msleep_dataset_reader\u001b[0m\u001b[0;34m(\u001b[0m\u001b[0;34m'scripps1_sleep.csv'\u001b[0m\u001b[0;34m)\u001b[0m\u001b[0;34m\u001b[0m\u001b[0;34m\u001b[0m\u001b[0m\n\u001b[0m",
      "\u001b[0;31mNameError\u001b[0m: name 'sleep_dataset_reader' is not defined"
     ]
    }
   ],
   "source": [
    "df = sleep_dataset_reader('scripps1_sleep.csv')\n"
   ]
  },
  {
   "cell_type": "code",
   "execution_count": 5,
   "metadata": {},
   "outputs": [],
   "source": [
    "def dataset_cleaner(dataset):\n",
    "    '''This function does a general clean of the sleep dataframe (changes variables to proper types, drops\n",
    "    unimportant columns)\n",
    "    Parameter: dataset, the sleep dataframe \n",
    "    Returns: Returns a cleaner dataframe that has proper dtypes and less unnecessary columns \n",
    "    \n",
    "    WHAT'S NEEDED: TimeZone is unclear. For future reference, what the numbers are might be useful\n",
    "    '''\n",
    "    df = dataset.copy()\n",
    "    df['Date'] =  pd.to_datetime(df['Date'], format='%d.%m.%Y') \n",
    "    # originally string, might be unnecessary? maybe convert to date; weekday vs weekend?\n",
    "    df['Bedtime start Unix'] = pd.to_datetime(df['Bedtime start Unix'],unit='s') # originally string\n",
    "    df['Bedtime end Unix'] = pd.to_datetime(df['Bedtime end Unix'],unit='s') # originally string \n",
    "    df = df.drop(['Bedtime start','Bedtime end'],axis=1) # unnecessary, since we already have bedtime unix's\n",
    "    df = df[df['Debug info'] != 'Bedtime detection failed'] \n",
    "    # removes bedtime detection failed, rows lack info; line could be used to grab failing measurements in the future \n",
    "    str_list = list(filter(None, list(df.columns))) \n",
    "    # some columns have empty header and are empty, this gets rid of these columns \n",
    "    return df[str_list]"
   ]
  },
  {
   "cell_type": "code",
   "execution_count": 6,
   "metadata": {},
   "outputs": [
    {
     "data": {
      "text/html": [
       "<div>\n",
       "<style scoped>\n",
       "    .dataframe tbody tr th:only-of-type {\n",
       "        vertical-align: middle;\n",
       "    }\n",
       "\n",
       "    .dataframe tbody tr th {\n",
       "        vertical-align: top;\n",
       "    }\n",
       "\n",
       "    .dataframe thead th {\n",
       "        text-align: right;\n",
       "    }\n",
       "</style>\n",
       "<table border=\"1\" class=\"dataframe\">\n",
       "  <thead>\n",
       "    <tr style=\"text-align: right;\">\n",
       "      <th></th>\n",
       "      <th>Date</th>\n",
       "      <th>Bedtime start Unix</th>\n",
       "      <th>Bedtime end Unix</th>\n",
       "      <th>TimeZone</th>\n",
       "      <th>Debug info</th>\n",
       "      <th>Battery consumption</th>\n",
       "      <th>Is longest</th>\n",
       "      <th>Time in bed</th>\n",
       "      <th>Sleep Score</th>\n",
       "      <th>Sleep minutes</th>\n",
       "      <th>...</th>\n",
       "      <th>890</th>\n",
       "      <th>891</th>\n",
       "      <th>892</th>\n",
       "      <th>893</th>\n",
       "      <th>894</th>\n",
       "      <th>895</th>\n",
       "      <th>896</th>\n",
       "      <th>897</th>\n",
       "      <th>898</th>\n",
       "      <th>899</th>\n",
       "    </tr>\n",
       "  </thead>\n",
       "  <tbody>\n",
       "    <tr>\n",
       "      <th>0</th>\n",
       "      <td>2018-11-27</td>\n",
       "      <td>2018-11-27 20:35:53</td>\n",
       "      <td>2018-11-27 20:49:53</td>\n",
       "      <td>-8.0</td>\n",
       "      <td>NaN</td>\n",
       "      <td>NaN</td>\n",
       "      <td>1.0</td>\n",
       "      <td>14.0</td>\n",
       "      <td>23.0</td>\n",
       "      <td>4.0</td>\n",
       "      <td>...</td>\n",
       "      <td>0.0</td>\n",
       "      <td>0.0</td>\n",
       "      <td>0.0</td>\n",
       "      <td>0.0</td>\n",
       "      <td>0.0</td>\n",
       "      <td>0.0</td>\n",
       "      <td>0.0</td>\n",
       "      <td>0.0</td>\n",
       "      <td>0.0</td>\n",
       "      <td>0.0</td>\n",
       "    </tr>\n",
       "    <tr>\n",
       "      <th>1</th>\n",
       "      <td>2018-11-27</td>\n",
       "      <td>2018-11-28 01:17:55</td>\n",
       "      <td>2018-11-28 01:37:55</td>\n",
       "      <td>-8.0</td>\n",
       "      <td>NaN</td>\n",
       "      <td>NaN</td>\n",
       "      <td>1.0</td>\n",
       "      <td>20.0</td>\n",
       "      <td>23.0</td>\n",
       "      <td>0.0</td>\n",
       "      <td>...</td>\n",
       "      <td>0.0</td>\n",
       "      <td>0.0</td>\n",
       "      <td>0.0</td>\n",
       "      <td>0.0</td>\n",
       "      <td>0.0</td>\n",
       "      <td>0.0</td>\n",
       "      <td>0.0</td>\n",
       "      <td>0.0</td>\n",
       "      <td>0.0</td>\n",
       "      <td>0.0</td>\n",
       "    </tr>\n",
       "    <tr>\n",
       "      <th>2</th>\n",
       "      <td>2018-11-28</td>\n",
       "      <td>2018-11-28 06:16:15</td>\n",
       "      <td>2018-11-28 15:32:15</td>\n",
       "      <td>-8.0</td>\n",
       "      <td>NaN</td>\n",
       "      <td>1.2%</td>\n",
       "      <td>1.0</td>\n",
       "      <td>556.0</td>\n",
       "      <td>94.0</td>\n",
       "      <td>514.0</td>\n",
       "      <td>...</td>\n",
       "      <td>2.0</td>\n",
       "      <td>2.0</td>\n",
       "      <td>2.0</td>\n",
       "      <td>2.0</td>\n",
       "      <td>2.0</td>\n",
       "      <td>2.0</td>\n",
       "      <td>2.0</td>\n",
       "      <td>2.0</td>\n",
       "      <td>2.0</td>\n",
       "      <td>3.0</td>\n",
       "    </tr>\n",
       "    <tr>\n",
       "      <th>3</th>\n",
       "      <td>2018-11-28</td>\n",
       "      <td>2018-11-28 20:52:26</td>\n",
       "      <td>2018-11-28 21:12:26</td>\n",
       "      <td>-8.0</td>\n",
       "      <td>NaN</td>\n",
       "      <td>NaN</td>\n",
       "      <td>0.0</td>\n",
       "      <td>20.0</td>\n",
       "      <td>25.0</td>\n",
       "      <td>10.0</td>\n",
       "      <td>...</td>\n",
       "      <td>0.0</td>\n",
       "      <td>0.0</td>\n",
       "      <td>0.0</td>\n",
       "      <td>0.0</td>\n",
       "      <td>0.0</td>\n",
       "      <td>0.0</td>\n",
       "      <td>0.0</td>\n",
       "      <td>0.0</td>\n",
       "      <td>0.0</td>\n",
       "      <td>0.0</td>\n",
       "    </tr>\n",
       "    <tr>\n",
       "      <th>4</th>\n",
       "      <td>2018-11-29</td>\n",
       "      <td>2018-11-29 03:44:43</td>\n",
       "      <td>2018-11-29 03:54:43</td>\n",
       "      <td>-8.0</td>\n",
       "      <td>NaN</td>\n",
       "      <td>NaN</td>\n",
       "      <td>1.0</td>\n",
       "      <td>10.0</td>\n",
       "      <td>23.0</td>\n",
       "      <td>0.0</td>\n",
       "      <td>...</td>\n",
       "      <td>0.0</td>\n",
       "      <td>0.0</td>\n",
       "      <td>0.0</td>\n",
       "      <td>0.0</td>\n",
       "      <td>0.0</td>\n",
       "      <td>0.0</td>\n",
       "      <td>0.0</td>\n",
       "      <td>0.0</td>\n",
       "      <td>0.0</td>\n",
       "      <td>0.0</td>\n",
       "    </tr>\n",
       "  </tbody>\n",
       "</table>\n",
       "<p>5 rows × 935 columns</p>\n",
       "</div>"
      ],
      "text/plain": [
       "        Date  Bedtime start Unix    Bedtime end Unix  TimeZone Debug info  \\\n",
       "0 2018-11-27 2018-11-27 20:35:53 2018-11-27 20:49:53      -8.0        NaN   \n",
       "1 2018-11-27 2018-11-28 01:17:55 2018-11-28 01:37:55      -8.0        NaN   \n",
       "2 2018-11-28 2018-11-28 06:16:15 2018-11-28 15:32:15      -8.0        NaN   \n",
       "3 2018-11-28 2018-11-28 20:52:26 2018-11-28 21:12:26      -8.0        NaN   \n",
       "4 2018-11-29 2018-11-29 03:44:43 2018-11-29 03:54:43      -8.0        NaN   \n",
       "\n",
       "  Battery consumption  Is longest  Time in bed  Sleep Score  Sleep minutes  \\\n",
       "0                 NaN         1.0         14.0         23.0            4.0   \n",
       "1                 NaN         1.0         20.0         23.0            0.0   \n",
       "2                1.2%         1.0        556.0         94.0          514.0   \n",
       "3                 NaN         0.0         20.0         25.0           10.0   \n",
       "4                 NaN         1.0         10.0         23.0            0.0   \n",
       "\n",
       "  ...   890  891  892  893  894  895  896  897  898  899  \n",
       "0 ...   0.0  0.0  0.0  0.0  0.0  0.0  0.0  0.0  0.0  0.0  \n",
       "1 ...   0.0  0.0  0.0  0.0  0.0  0.0  0.0  0.0  0.0  0.0  \n",
       "2 ...   2.0  2.0  2.0  2.0  2.0  2.0  2.0  2.0  2.0  3.0  \n",
       "3 ...   0.0  0.0  0.0  0.0  0.0  0.0  0.0  0.0  0.0  0.0  \n",
       "4 ...   0.0  0.0  0.0  0.0  0.0  0.0  0.0  0.0  0.0  0.0  \n",
       "\n",
       "[5 rows x 935 columns]"
      ]
     },
     "execution_count": 6,
     "metadata": {},
     "output_type": "execute_result"
    }
   ],
   "source": [
    "df_1 = dataset_cleaner(df)\n",
    "df_1.head()"
   ]
  },
  {
   "cell_type": "code",
   "execution_count": 7,
   "metadata": {},
   "outputs": [],
   "source": [
    "def analysis_one(df):\n",
    "    ''' Method used to split dataframe into initial interest columns first. Focuses on only the first few \n",
    "    columns, ignoring the sleep phases columns. Hopefully I can get some more information about those later on \n",
    "    Parameter: df, the cleaned sleep dataframe \n",
    "    Returns: returns dataframe with columns of interest, everything should be converted to numbers \n",
    "    \n",
    "    THINGS TO CONSIDER: Maybe don't drop bed time/wake time. Could be something important (sleeping late at night\n",
    "    vs sleeping earlier, etc.)\n",
    "    '''\n",
    "    area_interest = df.iloc[:,6:35].dropna(how='all', axis=1).drop('SleepMidPoint',axis=1)\n",
    "    return area_interest.apply(pd.to_numeric)"
   ]
  },
  {
   "cell_type": "code",
   "execution_count": 8,
   "metadata": {},
   "outputs": [
    {
     "data": {
      "text/html": [
       "<div>\n",
       "<style scoped>\n",
       "    .dataframe tbody tr th:only-of-type {\n",
       "        vertical-align: middle;\n",
       "    }\n",
       "\n",
       "    .dataframe tbody tr th {\n",
       "        vertical-align: top;\n",
       "    }\n",
       "\n",
       "    .dataframe thead th {\n",
       "        text-align: right;\n",
       "    }\n",
       "</style>\n",
       "<table border=\"1\" class=\"dataframe\">\n",
       "  <thead>\n",
       "    <tr style=\"text-align: right;\">\n",
       "      <th></th>\n",
       "      <th>Is longest</th>\n",
       "      <th>Time in bed</th>\n",
       "      <th>Sleep Score</th>\n",
       "      <th>Sleep minutes</th>\n",
       "      <th>Wake minutes</th>\n",
       "      <th>REM minutes</th>\n",
       "      <th>Light minutes</th>\n",
       "      <th>Deep minutes</th>\n",
       "      <th>Efficiency</th>\n",
       "      <th>Lowest HR time minutes</th>\n",
       "      <th>...</th>\n",
       "      <th>Temperature</th>\n",
       "      <th>Restless%</th>\n",
       "      <th>Got up count</th>\n",
       "      <th>Score Total</th>\n",
       "      <th>Score Deep</th>\n",
       "      <th>Score REM</th>\n",
       "      <th>Score Efficiency</th>\n",
       "      <th>Score Latancy</th>\n",
       "      <th>Score Disturbances</th>\n",
       "      <th>Score Alignment</th>\n",
       "    </tr>\n",
       "  </thead>\n",
       "  <tbody>\n",
       "    <tr>\n",
       "      <th>0</th>\n",
       "      <td>1.0</td>\n",
       "      <td>14.0</td>\n",
       "      <td>23.0</td>\n",
       "      <td>4.0</td>\n",
       "      <td>10.0</td>\n",
       "      <td>0.0</td>\n",
       "      <td>4.0</td>\n",
       "      <td>0.0</td>\n",
       "      <td>29.0</td>\n",
       "      <td>6.0</td>\n",
       "      <td>...</td>\n",
       "      <td>0.0</td>\n",
       "      <td>102.0</td>\n",
       "      <td>0.0</td>\n",
       "      <td>1.0</td>\n",
       "      <td>1.0</td>\n",
       "      <td>1.0</td>\n",
       "      <td>1.0</td>\n",
       "      <td>76.0</td>\n",
       "      <td>99.0</td>\n",
       "      <td>1.0</td>\n",
       "    </tr>\n",
       "    <tr>\n",
       "      <th>1</th>\n",
       "      <td>1.0</td>\n",
       "      <td>20.0</td>\n",
       "      <td>23.0</td>\n",
       "      <td>0.0</td>\n",
       "      <td>20.0</td>\n",
       "      <td>0.0</td>\n",
       "      <td>0.0</td>\n",
       "      <td>0.0</td>\n",
       "      <td>0.0</td>\n",
       "      <td>8.0</td>\n",
       "      <td>...</td>\n",
       "      <td>0.0</td>\n",
       "      <td>NaN</td>\n",
       "      <td>0.0</td>\n",
       "      <td>1.0</td>\n",
       "      <td>1.0</td>\n",
       "      <td>1.0</td>\n",
       "      <td>1.0</td>\n",
       "      <td>76.0</td>\n",
       "      <td>99.0</td>\n",
       "      <td>1.0</td>\n",
       "    </tr>\n",
       "    <tr>\n",
       "      <th>2</th>\n",
       "      <td>1.0</td>\n",
       "      <td>556.0</td>\n",
       "      <td>94.0</td>\n",
       "      <td>514.0</td>\n",
       "      <td>43.0</td>\n",
       "      <td>212.0</td>\n",
       "      <td>230.0</td>\n",
       "      <td>73.0</td>\n",
       "      <td>92.0</td>\n",
       "      <td>102.0</td>\n",
       "      <td>...</td>\n",
       "      <td>36.7</td>\n",
       "      <td>38.0</td>\n",
       "      <td>0.0</td>\n",
       "      <td>97.0</td>\n",
       "      <td>82.0</td>\n",
       "      <td>100.0</td>\n",
       "      <td>98.0</td>\n",
       "      <td>96.0</td>\n",
       "      <td>81.0</td>\n",
       "      <td>100.0</td>\n",
       "    </tr>\n",
       "    <tr>\n",
       "      <th>3</th>\n",
       "      <td>0.0</td>\n",
       "      <td>20.0</td>\n",
       "      <td>25.0</td>\n",
       "      <td>10.0</td>\n",
       "      <td>11.0</td>\n",
       "      <td>0.0</td>\n",
       "      <td>10.0</td>\n",
       "      <td>0.0</td>\n",
       "      <td>48.0</td>\n",
       "      <td>8.0</td>\n",
       "      <td>...</td>\n",
       "      <td>36.7</td>\n",
       "      <td>86.0</td>\n",
       "      <td>0.0</td>\n",
       "      <td>1.0</td>\n",
       "      <td>1.0</td>\n",
       "      <td>1.0</td>\n",
       "      <td>19.0</td>\n",
       "      <td>82.0</td>\n",
       "      <td>99.0</td>\n",
       "      <td>1.0</td>\n",
       "    </tr>\n",
       "    <tr>\n",
       "      <th>4</th>\n",
       "      <td>1.0</td>\n",
       "      <td>10.0</td>\n",
       "      <td>23.0</td>\n",
       "      <td>0.0</td>\n",
       "      <td>10.0</td>\n",
       "      <td>0.0</td>\n",
       "      <td>0.0</td>\n",
       "      <td>0.0</td>\n",
       "      <td>0.0</td>\n",
       "      <td>0.0</td>\n",
       "      <td>...</td>\n",
       "      <td>36.7</td>\n",
       "      <td>NaN</td>\n",
       "      <td>0.0</td>\n",
       "      <td>1.0</td>\n",
       "      <td>1.0</td>\n",
       "      <td>1.0</td>\n",
       "      <td>1.0</td>\n",
       "      <td>76.0</td>\n",
       "      <td>99.0</td>\n",
       "      <td>6.0</td>\n",
       "    </tr>\n",
       "  </tbody>\n",
       "</table>\n",
       "<p>5 rows × 26 columns</p>\n",
       "</div>"
      ],
      "text/plain": [
       "   Is longest  Time in bed  Sleep Score  Sleep minutes  Wake minutes  \\\n",
       "0         1.0         14.0         23.0            4.0          10.0   \n",
       "1         1.0         20.0         23.0            0.0          20.0   \n",
       "2         1.0        556.0         94.0          514.0          43.0   \n",
       "3         0.0         20.0         25.0           10.0          11.0   \n",
       "4         1.0         10.0         23.0            0.0          10.0   \n",
       "\n",
       "   REM minutes  Light minutes  Deep minutes  Efficiency  \\\n",
       "0          0.0            4.0           0.0        29.0   \n",
       "1          0.0            0.0           0.0         0.0   \n",
       "2        212.0          230.0          73.0        92.0   \n",
       "3          0.0           10.0           0.0        48.0   \n",
       "4          0.0            0.0           0.0         0.0   \n",
       "\n",
       "   Lowest HR time minutes       ...         Temperature  Restless%  \\\n",
       "0                     6.0       ...                 0.0      102.0   \n",
       "1                     8.0       ...                 0.0        NaN   \n",
       "2                   102.0       ...                36.7       38.0   \n",
       "3                     8.0       ...                36.7       86.0   \n",
       "4                     0.0       ...                36.7        NaN   \n",
       "\n",
       "   Got up count  Score Total  Score Deep  Score REM   Score Efficiency  \\\n",
       "0           0.0          1.0         1.0        1.0                1.0   \n",
       "1           0.0          1.0         1.0        1.0                1.0   \n",
       "2           0.0         97.0        82.0      100.0               98.0   \n",
       "3           0.0          1.0         1.0        1.0               19.0   \n",
       "4           0.0          1.0         1.0        1.0                1.0   \n",
       "\n",
       "    Score Latancy   Score Disturbances  Score Alignment  \n",
       "0            76.0                 99.0              1.0  \n",
       "1            76.0                 99.0              1.0  \n",
       "2            96.0                 81.0            100.0  \n",
       "3            82.0                 99.0              1.0  \n",
       "4            76.0                 99.0              6.0  \n",
       "\n",
       "[5 rows x 26 columns]"
      ]
     },
     "execution_count": 8,
     "metadata": {},
     "output_type": "execute_result"
    }
   ],
   "source": [
    "df_2 = analysis_one(df_1)\n",
    "df_2.head()"
   ]
  },
  {
   "cell_type": "code",
   "execution_count": 9,
   "metadata": {},
   "outputs": [
    {
     "data": {
      "image/png": "[encoded data removed]",
      "text/plain": [
       "<Figure size 432x288 with 2 Axes>"
      ]
     },
     "metadata": {
      "needs_background": "light"
     },
     "output_type": "display_data"
    }
   ],
   "source": [
    "corr = df_2.corr()\n",
    "ax = sns.heatmap(\n",
    "    corr, \n",
    "    vmin=-1, vmax=1, center=0,\n",
    "    cmap=sns.diverging_palette(20, 220, n=200),\n",
    ");"
   ]
  },
  {
   "cell_type": "code",
   "execution_count": 14,
   "metadata": {},
   "outputs": [],
   "source": [
    "df_2_no_low_corr = df_2.drop(['breath','breath_v','Average HR'],axis=1)"
   ]
  },
  {
   "cell_type": "code",
   "execution_count": 15,
   "metadata": {},
   "outputs": [
    {
     "data": {
      "image/png": "[encoded data removed]",
      "text/plain": [
       "<Figure size 432x288 with 2 Axes>"
      ]
     },
     "metadata": {
      "needs_background": "light"
     },
     "output_type": "display_data"
    }
   ],
   "source": [
    "corr = df_2_no_low_corr.corr()\n",
    "ax = sns.heatmap(\n",
    "    corr, \n",
    "    vmin=-1, vmax=1, center=0,\n",
    "    cmap=sns.diverging_palette(20, 220, n=200),\n",
    ");"
   ]
  },
  {
   "cell_type": "markdown",
   "metadata": {},
   "source": [
    "If we're purely focused on sleep score, variables of least interest are is_longest, wake_minutes (which makes sense, this should not affect our sleep score), lowest HR time minutes, lowest HR, temp, and get up count. Time in bed and sleep minutes have a big positive correlation, while score disturbances have the biggest negative correlations (assume score disturbances is the number of disturbances?). Obviously scores will have a big effect (score total, score deep, etc.) so those won't need a lot of scrutiny; time in bed, sleep minutes, lengths of sleep in different sleep phases, wake up count, and sleep latency are of biggest interest."
   ]
  },
  {
   "cell_type": "markdown",
   "metadata": {},
   "source": [
    "## Analysis on Time in Bed/Sleep Minutes"
   ]
  },
  {
   "cell_type": "code",
   "execution_count": 16,
   "metadata": {},
   "outputs": [],
   "source": [
    "def naps_and_sleep(df):\n",
    "    ''' Method used to split dataframe into two dataframes; one focused on naps (sleep minutes less than 30 \n",
    "    minutes) and one focused on concrete sleep (sleep minutes equal to or more than 30 minutes)\n",
    "    Parameter: df, the cleaned sleep dataframe \n",
    "    Returns: returns two dataframes, first one being naps (naps dataframe), second one being sleep (sleep dataframe)\n",
    "    \n",
    "    POTENTIAL SOURCE: https://www.sleep.org/articles/how-long-to-nap/\n",
    "    '''\n",
    "    naps = df[df['Sleep minutes']<30]\n",
    "    sleep = df[df['Sleep minutes']>=30]\n",
    "    return naps,sleep"
   ]
  },
  {
   "cell_type": "code",
   "execution_count": 17,
   "metadata": {},
   "outputs": [
    {
     "data": {
      "text/plain": [
       "((20, 33), (15, 33))"
      ]
     },
     "execution_count": 17,
     "metadata": {},
     "output_type": "execute_result"
    }
   ],
   "source": [
    "naps,sleep = naps_and_sleep(df_1.iloc[:,0:33])\n",
    "naps.shape,sleep.shape\n",
    "# relatively equal splits"
   ]
  },
  {
   "cell_type": "code",
   "execution_count": 18,
   "metadata": {},
   "outputs": [
    {
     "data": {
      "image/png": "[encoded data removed]",
      "text/plain": [
       "<Figure size 432x288 with 1 Axes>"
      ]
     },
     "metadata": {
      "needs_background": "light"
     },
     "output_type": "display_data"
    }
   ],
   "source": [
    "f, ax = plt.subplots()\n",
    "ax.scatter('Sleep minutes', 'Sleep Score', data = sleep, color='r',label='Sleep')\n",
    "ax.scatter('Sleep minutes', 'Sleep Score', data = naps, color='b',label='Naps')\n",
    "ax.set_ylabel('Sleep Score')\n",
    "ax.set_xlabel('Sleep Duration (minutes)')\n",
    "ax.set_title('Sleep Duration vs. Sleep Score')\n",
    "leg = ax.legend();\n",
    "# not worth to plot both together"
   ]
  },
  {
   "cell_type": "code",
   "execution_count": 1,
   "metadata": {},
   "outputs": [
    {
     "ename": "NameError",
     "evalue": "name 'plt' is not defined",
     "output_type": "error",
     "traceback": [
      "\u001b[0;31m---------------------------------------------------------------------------\u001b[0m",
      "\u001b[0;31mNameError\u001b[0m                                 Traceback (most recent call last)",
      "\u001b[0;32m<ipython-input-1-2fabe07d6cfd>\u001b[0m in \u001b[0;36m<module>\u001b[0;34m\u001b[0m\n\u001b[0;32m----> 1\u001b[0;31m \u001b[0mplt\u001b[0m\u001b[0;34m.\u001b[0m\u001b[0mscatter\u001b[0m\u001b[0;34m(\u001b[0m\u001b[0mnaps\u001b[0m\u001b[0;34m[\u001b[0m\u001b[0;34m'Sleep minutes'\u001b[0m\u001b[0;34m]\u001b[0m\u001b[0;34m,\u001b[0m\u001b[0mnaps\u001b[0m\u001b[0;34m[\u001b[0m\u001b[0;34m'Sleep Score'\u001b[0m\u001b[0;34m]\u001b[0m\u001b[0;34m,\u001b[0m\u001b[0mcolor\u001b[0m\u001b[0;34m=\u001b[0m\u001b[0;34m'b'\u001b[0m\u001b[0;34m)\u001b[0m\u001b[0;34m\u001b[0m\u001b[0;34m\u001b[0m\u001b[0m\n\u001b[0m\u001b[1;32m      2\u001b[0m plt.plot(np.unique(naps['Sleep minutes']), np.poly1d(np.polyfit(naps['Sleep minutes'], naps['Sleep Score']\n\u001b[1;32m      3\u001b[0m                                                                 , 1))(np.unique(naps['Sleep minutes'])),color='b')\n\u001b[1;32m      4\u001b[0m \u001b[0mplt\u001b[0m\u001b[0;34m.\u001b[0m\u001b[0mxlabels\u001b[0m\u001b[0;34m(\u001b[0m\u001b[0;34m'asdf'\u001b[0m\u001b[0;34m)\u001b[0m\u001b[0;34m\u001b[0m\u001b[0;34m\u001b[0m\u001b[0m\n\u001b[1;32m      5\u001b[0m \u001b[0;31m# why do the sleep scores vary so much when you sleep for 0 minutes\u001b[0m\u001b[0;34m\u001b[0m\u001b[0;34m\u001b[0m\u001b[0;34m\u001b[0m\u001b[0m\n",
      "\u001b[0;31mNameError\u001b[0m: name 'plt' is not defined"
     ]
    }
   ],
   "source": [
    "plt.scatter(naps['Sleep minutes'],naps['Sleep Score'],color='b')\n",
    "plt.plot(np.unique(naps['Sleep minutes']), np.poly1d(np.polyfit(naps['Sleep minutes'], naps['Sleep Score']\n",
    "                                                                , 1))(np.unique(naps['Sleep minutes'])),color='b')\n",
    "plt.xlabels('asdf')\n",
    "# why do the sleep scores vary so much when you sleep for 0 minutes"
   ]
  },
  {
   "cell_type": "code",
   "execution_count": 22,
   "metadata": {},
   "outputs": [
    {
     "data": {
      "text/plain": [
       "[<matplotlib.lines.Line2D at 0x7feaac3af748>]"
      ]
     },
     "execution_count": 22,
     "metadata": {},
     "output_type": "execute_result"
    },
    {
     "data": {
      "image/png": "[encoded data removed]",
      "text/plain": [
       "<Figure size 432x288 with 1 Axes>"
      ]
     },
     "metadata": {
      "needs_background": "light"
     },
     "output_type": "display_data"
    }
   ],
   "source": [
    "plt.scatter(sleep['Sleep minutes'],sleep['Sleep Score'],color='r')\n",
    "plt.plot(np.unique(sleep['Sleep minutes']), np.poly1d(np.polyfit(sleep['Sleep minutes'], sleep['Sleep Score']\n",
    "                                                                , 1))(np.unique(sleep['Sleep minutes'])),color='r')"
   ]
  },
  {
   "cell_type": "code",
   "execution_count": 23,
   "metadata": {},
   "outputs": [
    {
     "data": {
      "image/png": "[encoded data removed]",
      "text/plain": [
       "<Figure size 432x288 with 1 Axes>"
      ]
     },
     "metadata": {
      "needs_background": "light"
     },
     "output_type": "display_data"
    }
   ],
   "source": [
    "f, ax = plt.subplots()\n",
    "ax.scatter(sleep['Bedtime start Unix'].astype(int), 'Sleep Score', data = sleep,color='r',label='Sleep')\n",
    "ax.scatter(naps['Bedtime start Unix'].astype(int), 'Sleep Score', data = naps,color='b',label='Naps')\n",
    "ax.plot(sleep['Bedtime start Unix'].astype(int), np.poly1d(np.polyfit(sleep['Bedtime start Unix'].astype(int), sleep['Sleep Score']\n",
    "                                                                , 1))(np.unique(sleep['Bedtime start Unix'].astype(int))),color='r')\n",
    "ax.plot(naps['Bedtime start Unix'].astype(int), np.poly1d(np.polyfit(naps['Bedtime start Unix'].astype(int), naps['Sleep Score']\n",
    "                                                                , 1))(np.unique(naps['Bedtime start Unix'].astype(int))),color='b')\n",
    "ax.set_ylabel('Sleep Score')\n",
    "ax.set_xlabel('Time (seconds from Midnight)')\n",
    "ax.set_title('Bedtime Start vs. Sleep Score')\n",
    "leg = ax.legend();"
   ]
  },
  {
   "cell_type": "code",
   "execution_count": 24,
   "metadata": {},
   "outputs": [
    {
     "data": {
      "text/html": [
       "<div>\n",
       "<style scoped>\n",
       "    .dataframe tbody tr th:only-of-type {\n",
       "        vertical-align: middle;\n",
       "    }\n",
       "\n",
       "    .dataframe tbody tr th {\n",
       "        vertical-align: top;\n",
       "    }\n",
       "\n",
       "    .dataframe thead th {\n",
       "        text-align: right;\n",
       "    }\n",
       "</style>\n",
       "<table border=\"1\" class=\"dataframe\">\n",
       "  <thead>\n",
       "    <tr style=\"text-align: right;\">\n",
       "      <th></th>\n",
       "      <th>Date</th>\n",
       "      <th>Bedtime start Unix</th>\n",
       "      <th>Bedtime end Unix</th>\n",
       "      <th>TimeZone</th>\n",
       "      <th>Debug info</th>\n",
       "      <th>Battery consumption</th>\n",
       "      <th>Is longest</th>\n",
       "      <th>Time in bed</th>\n",
       "      <th>Sleep Score</th>\n",
       "      <th>Sleep minutes</th>\n",
       "      <th>...</th>\n",
       "      <th>890</th>\n",
       "      <th>891</th>\n",
       "      <th>892</th>\n",
       "      <th>893</th>\n",
       "      <th>894</th>\n",
       "      <th>895</th>\n",
       "      <th>896</th>\n",
       "      <th>897</th>\n",
       "      <th>898</th>\n",
       "      <th>899</th>\n",
       "    </tr>\n",
       "  </thead>\n",
       "  <tbody>\n",
       "    <tr>\n",
       "      <th>0</th>\n",
       "      <td>2018-11-27</td>\n",
       "      <td>2018-11-27 20:35:53</td>\n",
       "      <td>2018-11-27 20:49:53</td>\n",
       "      <td>-8.0</td>\n",
       "      <td>NaN</td>\n",
       "      <td>NaN</td>\n",
       "      <td>1.0</td>\n",
       "      <td>14.0</td>\n",
       "      <td>23.0</td>\n",
       "      <td>4.0</td>\n",
       "      <td>...</td>\n",
       "      <td>0.0</td>\n",
       "      <td>0.0</td>\n",
       "      <td>0.0</td>\n",
       "      <td>0.0</td>\n",
       "      <td>0.0</td>\n",
       "      <td>0.0</td>\n",
       "      <td>0.0</td>\n",
       "      <td>0.0</td>\n",
       "      <td>0.0</td>\n",
       "      <td>0.0</td>\n",
       "    </tr>\n",
       "    <tr>\n",
       "      <th>1</th>\n",
       "      <td>2018-11-27</td>\n",
       "      <td>2018-11-28 01:17:55</td>\n",
       "      <td>2018-11-28 01:37:55</td>\n",
       "      <td>-8.0</td>\n",
       "      <td>NaN</td>\n",
       "      <td>NaN</td>\n",
       "      <td>1.0</td>\n",
       "      <td>20.0</td>\n",
       "      <td>23.0</td>\n",
       "      <td>0.0</td>\n",
       "      <td>...</td>\n",
       "      <td>0.0</td>\n",
       "      <td>0.0</td>\n",
       "      <td>0.0</td>\n",
       "      <td>0.0</td>\n",
       "      <td>0.0</td>\n",
       "      <td>0.0</td>\n",
       "      <td>0.0</td>\n",
       "      <td>0.0</td>\n",
       "      <td>0.0</td>\n",
       "      <td>0.0</td>\n",
       "    </tr>\n",
       "    <tr>\n",
       "      <th>2</th>\n",
       "      <td>2018-11-28</td>\n",
       "      <td>2018-11-28 06:16:15</td>\n",
       "      <td>2018-11-28 15:32:15</td>\n",
       "      <td>-8.0</td>\n",
       "      <td>NaN</td>\n",
       "      <td>1.2%</td>\n",
       "      <td>1.0</td>\n",
       "      <td>556.0</td>\n",
       "      <td>94.0</td>\n",
       "      <td>514.0</td>\n",
       "      <td>...</td>\n",
       "      <td>2.0</td>\n",
       "      <td>2.0</td>\n",
       "      <td>2.0</td>\n",
       "      <td>2.0</td>\n",
       "      <td>2.0</td>\n",
       "      <td>2.0</td>\n",
       "      <td>2.0</td>\n",
       "      <td>2.0</td>\n",
       "      <td>2.0</td>\n",
       "      <td>3.0</td>\n",
       "    </tr>\n",
       "    <tr>\n",
       "      <th>3</th>\n",
       "      <td>2018-11-28</td>\n",
       "      <td>2018-11-28 20:52:26</td>\n",
       "      <td>2018-11-28 21:12:26</td>\n",
       "      <td>-8.0</td>\n",
       "      <td>NaN</td>\n",
       "      <td>NaN</td>\n",
       "      <td>0.0</td>\n",
       "      <td>20.0</td>\n",
       "      <td>25.0</td>\n",
       "      <td>10.0</td>\n",
       "      <td>...</td>\n",
       "      <td>0.0</td>\n",
       "      <td>0.0</td>\n",
       "      <td>0.0</td>\n",
       "      <td>0.0</td>\n",
       "      <td>0.0</td>\n",
       "      <td>0.0</td>\n",
       "      <td>0.0</td>\n",
       "      <td>0.0</td>\n",
       "      <td>0.0</td>\n",
       "      <td>0.0</td>\n",
       "    </tr>\n",
       "    <tr>\n",
       "      <th>4</th>\n",
       "      <td>2018-11-29</td>\n",
       "      <td>2018-11-29 03:44:43</td>\n",
       "      <td>2018-11-29 03:54:43</td>\n",
       "      <td>-8.0</td>\n",
       "      <td>NaN</td>\n",
       "      <td>NaN</td>\n",
       "      <td>1.0</td>\n",
       "      <td>10.0</td>\n",
       "      <td>23.0</td>\n",
       "      <td>0.0</td>\n",
       "      <td>...</td>\n",
       "      <td>0.0</td>\n",
       "      <td>0.0</td>\n",
       "      <td>0.0</td>\n",
       "      <td>0.0</td>\n",
       "      <td>0.0</td>\n",
       "      <td>0.0</td>\n",
       "      <td>0.0</td>\n",
       "      <td>0.0</td>\n",
       "      <td>0.0</td>\n",
       "      <td>0.0</td>\n",
       "    </tr>\n",
       "  </tbody>\n",
       "</table>\n",
       "<p>5 rows × 935 columns</p>\n",
       "</div>"
      ],
      "text/plain": [
       "        Date  Bedtime start Unix    Bedtime end Unix  TimeZone Debug info  \\\n",
       "0 2018-11-27 2018-11-27 20:35:53 2018-11-27 20:49:53      -8.0        NaN   \n",
       "1 2018-11-27 2018-11-28 01:17:55 2018-11-28 01:37:55      -8.0        NaN   \n",
       "2 2018-11-28 2018-11-28 06:16:15 2018-11-28 15:32:15      -8.0        NaN   \n",
       "3 2018-11-28 2018-11-28 20:52:26 2018-11-28 21:12:26      -8.0        NaN   \n",
       "4 2018-11-29 2018-11-29 03:44:43 2018-11-29 03:54:43      -8.0        NaN   \n",
       "\n",
       "  Battery consumption  Is longest  Time in bed  Sleep Score  Sleep minutes  \\\n",
       "0                 NaN         1.0         14.0         23.0            4.0   \n",
       "1                 NaN         1.0         20.0         23.0            0.0   \n",
       "2                1.2%         1.0        556.0         94.0          514.0   \n",
       "3                 NaN         0.0         20.0         25.0           10.0   \n",
       "4                 NaN         1.0         10.0         23.0            0.0   \n",
       "\n",
       "  ...   890  891  892  893  894  895  896  897  898  899  \n",
       "0 ...   0.0  0.0  0.0  0.0  0.0  0.0  0.0  0.0  0.0  0.0  \n",
       "1 ...   0.0  0.0  0.0  0.0  0.0  0.0  0.0  0.0  0.0  0.0  \n",
       "2 ...   2.0  2.0  2.0  2.0  2.0  2.0  2.0  2.0  2.0  3.0  \n",
       "3 ...   0.0  0.0  0.0  0.0  0.0  0.0  0.0  0.0  0.0  0.0  \n",
       "4 ...   0.0  0.0  0.0  0.0  0.0  0.0  0.0  0.0  0.0  0.0  \n",
       "\n",
       "[5 rows x 935 columns]"
      ]
     },
     "execution_count": 24,
     "metadata": {},
     "output_type": "execute_result"
    }
   ],
   "source": [
    "df_1.head()"
   ]
  },
  {
   "cell_type": "code",
   "execution_count": 26,
   "metadata": {},
   "outputs": [
    {
     "data": {
      "text/plain": [
       "<matplotlib.axes._subplots.AxesSubplot at 0x7efea8294588>"
      ]
     },
     "execution_count": 26,
     "metadata": {},
     "output_type": "execute_result"
    },
    {
     "data": {
      "image/png": "[encoded data removed]",
      "text/plain": [
       "<Figure size 432x288 with 1 Axes>"
      ]
     },
     "metadata": {
      "needs_background": "light"
     },
     "output_type": "display_data"
    }
   ],
   "source": [
    "df_1['REM minutes'].hist()"
   ]
  },
  {
   "cell_type": "code",
   "execution_count": 114,
   "metadata": {},
   "outputs": [
    {
     "data": {
      "text/plain": [
       "<matplotlib.axes._subplots.AxesSubplot at 0x7efe856995c0>"
      ]
     },
     "execution_count": 114,
     "metadata": {},
     "output_type": "execute_result"
    },
    {
     "data": {
      "image/png": "[encoded data removed]",
      "text/plain": [
       "<Figure size 432x288 with 1 Axes>"
      ]
     },
     "metadata": {
      "needs_background": "light"
     },
     "output_type": "display_data"
    }
   ],
   "source": [
    "df_1['Light minutes'].hist()"
   ]
  },
  {
   "cell_type": "code",
   "execution_count": 113,
   "metadata": {},
   "outputs": [
    {
     "data": {
      "text/plain": [
       "<matplotlib.axes._subplots.AxesSubplot at 0x7efe8593f828>"
      ]
     },
     "execution_count": 113,
     "metadata": {},
     "output_type": "execute_result"
    },
    {
     "data": {
      "image/png": "[encoded data removed]",
      "text/plain": [
       "<Figure size 432x288 with 1 Axes>"
      ]
     },
     "metadata": {
      "needs_background": "light"
     },
     "output_type": "display_data"
    }
   ],
   "source": [
    "df_1['Deep minutes'].hist()"
   ]
  },
  {
   "cell_type": "code",
   "execution_count": 120,
   "metadata": {},
   "outputs": [
    {
     "data": {
      "image/png": "[encoded data removed]",
      "text/plain": [
       "<Figure size 432x288 with 1 Axes>"
      ]
     },
     "metadata": {
      "needs_background": "light"
     },
     "output_type": "display_data"
    }
   ],
   "source": [
    "f, ax = plt.subplots()\n",
    "ax.scatter('REM minutes', 'Sleep Score', data = df_1,color='r',label='REM Phase')\n",
    "ax.plot(df_1['REM minutes'], np.poly1d(np.polyfit(df_1['REM minutes'], df_1['Sleep Score']\n",
    "                                                                , 1))(df_1['REM minutes']),color='r')\n",
    "ax.scatter('Light minutes', 'Sleep Score', data = df_1, color='g',label='Light Phase')\n",
    "ax.plot(df_1['Light minutes'], np.poly1d(np.polyfit(df_1['Light minutes'], df_1['Sleep Score']\n",
    "                                                                , 1))(df_1['Light minutes']),color='g')\n",
    "ax.scatter('Deep minutes', 'Sleep Score', data = df_1, color='b',label='Deep Phase')\n",
    "ax.plot(df_1['Deep minutes'], np.poly1d(np.polyfit(df_1['Deep minutes'], df_1['Sleep Score']\n",
    "                                                                , 1))(df_1['Deep minutes']),color='b')\n",
    "ax.set_ylabel('Sleep Score')\n",
    "ax.set_xlabel('Duration (minutes)')\n",
    "ax.set_title('Duration of Sleep Phases vs. Sleep Score')\n",
    "leg = ax.legend();"
   ]
  },
  {
   "cell_type": "code",
   "execution_count": null,
   "metadata": {},
   "outputs": [],
   "source": []
  }
 ],
 "metadata": {
  "kernelspec": {
   "display_name": "Python 3",
   "language": "python",
   "name": "python3"
  },
  "language_info": {
   "codemirror_mode": {
    "name": "ipython",
    "version": 3
   },
   "file_extension": ".py",
   "mimetype": "text/x-python",
   "name": "python",
   "nbconvert_exporter": "python",
   "pygments_lexer": "ipython3",
   "version": "3.6.8"
  }
 },
 "nbformat": 4,
 "nbformat_minor": 2
}
